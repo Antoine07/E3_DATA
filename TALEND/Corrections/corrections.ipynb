{
 "cells": [
  {
   "cell_type": "code",
   "execution_count": 6,
   "metadata": {},
   "outputs": [],
   "source": [
    "import mysql.connector\n",
    "\n",
    "connection_params = {\n",
    "    'host': \"localhost\",\n",
    "    'user': \"root\",\n",
    "    'password': \"antoine\",\n",
    "    'database': \"school\",\n",
    "}"
   ]
  },
  {
   "cell_type": "code",
   "execution_count": 7,
   "metadata": {},
   "outputs": [],
   "source": [
    "request = \"SELECT \\\n",
    "    ROUND(AVG(`j`.`n`), 2) as `avg`, \\\n",
    "    `c`.`name`, \\\n",
    "    `c`.`id` \\\n",
    "FROM \\\n",
    "    `clients` as `c` \\\n",
    "    JOIN JSON_TABLE( \\\n",
    "        `c`.`scores`, \\\n",
    "        '$[*]' columns( \\\n",
    "            `n` decimal(8, 2) path '$' \\\n",
    "        ) \\\n",
    "    ) as `j` \\\n",
    "GROUP BY \\\n",
    "    `c`.`id`; \\\n",
    "\""
   ]
  },
  {
   "cell_type": "code",
   "execution_count": 8,
   "metadata": {},
   "outputs": [
    {
     "name": "stdout",
     "output_type": "stream",
     "text": [
      "SELECT     ROUND(AVG(`j`.`n`), 2) as `avg`,     `c`.`name`,     `c`.`id` FROM     `clients` as `c`     JOIN JSON_TABLE(         `c`.`scores`,         '$[*]' columns(             `n` decimal(8, 2) path '$'         )     ) as `j` GROUP BY     `c`.`id`; \n"
     ]
    }
   ],
   "source": [
    "print(request)"
   ]
  },
  {
   "cell_type": "code",
   "execution_count": 9,
   "metadata": {},
   "outputs": [
    {
     "name": "stdout",
     "output_type": "stream",
     "text": [
      "(Decimal('15.60'), 'Alan', 1)\n",
      "(Decimal('15.60'), 'Alice', 2)\n",
      "(Decimal('15.60'), 'Sophie', 3)\n",
      "(Decimal('15.60'), 'Bernard', 4)\n",
      "(Decimal('15.60'), 'Philippe', 5)\n",
      "(Decimal('15.60'), 'Jérôme', 6)\n",
      "(Decimal('15.60'), 'Céline', 7)\n",
      "(Decimal('15.60'), 'Fenley', 8)\n",
      "(Decimal('15.60'), 'Naoudi', 9)\n",
      "(Decimal('15.60'), 'Sylvie', 10)\n",
      "(Decimal('15.60'), 'Yvette', 11)\n",
      "(Decimal('15.60'), 'Michel', 12)\n",
      "(Decimal('15.60'), 'Nicolas', 13)\n",
      "(Decimal('15.60'), 'Jean-Marie', 14)\n",
      "(Decimal('15.60'), 'Guillaume', 15)\n"
     ]
    }
   ],
   "source": [
    "with mysql.connector.connect(**connection_params) as db :\n",
    "    with db.cursor() as c:\n",
    "        c.execute(request)\n",
    "        for u in c.fetchall():\n",
    "            print(u)"
   ]
  },
  {
   "cell_type": "code",
   "execution_count": 10,
   "metadata": {},
   "outputs": [
    {
     "name": "stdout",
     "output_type": "stream",
     "text": [
      "(Decimal('15.60'), 'Alan', 1)\n",
      "(Decimal('15.60'), 'Alice', 2)\n",
      "(Decimal('15.60'), 'Sophie', 3)\n",
      "(Decimal('15.60'), 'Bernard', 4)\n",
      "(Decimal('15.60'), 'Philippe', 5)\n",
      "(Decimal('15.60'), 'Jérôme', 6)\n",
      "(Decimal('15.60'), 'Céline', 7)\n",
      "(Decimal('15.60'), 'Fenley', 8)\n",
      "(Decimal('15.60'), 'Naoudi', 9)\n",
      "(Decimal('15.60'), 'Sylvie', 10)\n",
      "(Decimal('15.60'), 'Yvette', 11)\n",
      "(Decimal('15.60'), 'Michel', 12)\n",
      "(Decimal('15.60'), 'Nicolas', 13)\n",
      "(Decimal('15.60'), 'Jean-Marie', 14)\n",
      "(Decimal('15.60'), 'Guillaume', 15)\n"
     ]
    }
   ],
   "source": [
    "# Récupération des données du flux\n",
    "with mysql.connector.connect(**connection_params) as db :\n",
    "    with db.cursor() as c:\n",
    "        c.execute(request)\n",
    "        while True:\n",
    "            u = c.fetchone()\n",
    "            if u is None:\n",
    "                break\n",
    "            print(u)"
   ]
  },
  {
   "cell_type": "code",
   "execution_count": 11,
   "metadata": {},
   "outputs": [
    {
     "ename": "ProgrammingError",
     "evalue": "1064 (42000): You have an error in your SQL syntax; check the manual that corresponds to your MySQL server version for the right syntax to use near 'd' at line 1",
     "output_type": "error",
     "traceback": [
      "\u001b[0;31m---------------------------------------------------------------------------\u001b[0m",
      "\u001b[0;31mMySQLInterfaceError\u001b[0m                       Traceback (most recent call last)",
      "\u001b[0;32m/opt/anaconda3/lib/python3.8/site-packages/mysql/connector/connection_cext.py\u001b[0m in \u001b[0;36mcmd_query\u001b[0;34m(self, query, raw, buffered, raw_as_string)\u001b[0m\n\u001b[1;32m    503\u001b[0m                 \u001b[0mquery\u001b[0m \u001b[0;34m=\u001b[0m \u001b[0mquery\u001b[0m\u001b[0;34m.\u001b[0m\u001b[0mencode\u001b[0m\u001b[0;34m(\u001b[0m\u001b[0;34m'utf-8'\u001b[0m\u001b[0;34m)\u001b[0m\u001b[0;34m\u001b[0m\u001b[0;34m\u001b[0m\u001b[0m\n\u001b[0;32m--> 504\u001b[0;31m             self._cmysql.query(query,\n\u001b[0m\u001b[1;32m    505\u001b[0m                                \u001b[0mraw\u001b[0m\u001b[0;34m=\u001b[0m\u001b[0mraw\u001b[0m\u001b[0;34m,\u001b[0m \u001b[0mbuffered\u001b[0m\u001b[0;34m=\u001b[0m\u001b[0mbuffered\u001b[0m\u001b[0;34m,\u001b[0m\u001b[0;34m\u001b[0m\u001b[0;34m\u001b[0m\u001b[0m\n",
      "\u001b[0;31mMySQLInterfaceError\u001b[0m: You have an error in your SQL syntax; check the manual that corresponds to your MySQL server version for the right syntax to use near 'd' at line 1",
      "\nDuring handling of the above exception, another exception occurred:\n",
      "\u001b[0;31mProgrammingError\u001b[0m                          Traceback (most recent call last)",
      "\u001b[0;32m<ipython-input-11-3f542c9c13c2>\u001b[0m in \u001b[0;36m<module>\u001b[0;34m\u001b[0m\n\u001b[1;32m     17\u001b[0m            \u001b[0mprice\u001b[0m \u001b[0md\u001b[0m\u001b[0;31m \u001b[0m\u001b[0;31m\\\u001b[0m\u001b[0;34m\u001b[0m\u001b[0;34m\u001b[0m\u001b[0m\n\u001b[1;32m     18\u001b[0m            \u001b[0;31m'\u001b[0m\u001b[0;34m;\u001b[0m\u001b[0;34m\u001b[0m\u001b[0;34m\u001b[0m\u001b[0m\n\u001b[0;32m---> 19\u001b[0;31m         \u001b[0mc\u001b[0m\u001b[0;34m.\u001b[0m\u001b[0mexecute\u001b[0m\u001b[0;34m(\u001b[0m\u001b[0mr\u001b[0m\u001b[0;34m)\u001b[0m\u001b[0;34m\u001b[0m\u001b[0;34m\u001b[0m\u001b[0m\n\u001b[0m",
      "\u001b[0;32m/opt/anaconda3/lib/python3.8/site-packages/mysql/connector/cursor_cext.py\u001b[0m in \u001b[0;36mexecute\u001b[0;34m(self, operation, params, multi)\u001b[0m\n\u001b[1;32m    262\u001b[0m \u001b[0;34m\u001b[0m\u001b[0m\n\u001b[1;32m    263\u001b[0m         \u001b[0;32mtry\u001b[0m\u001b[0;34m:\u001b[0m\u001b[0;34m\u001b[0m\u001b[0;34m\u001b[0m\u001b[0m\n\u001b[0;32m--> 264\u001b[0;31m             result = self._cnx.cmd_query(stmt, raw=self._raw,\n\u001b[0m\u001b[1;32m    265\u001b[0m                                          \u001b[0mbuffered\u001b[0m\u001b[0;34m=\u001b[0m\u001b[0mself\u001b[0m\u001b[0;34m.\u001b[0m\u001b[0m_buffered\u001b[0m\u001b[0;34m,\u001b[0m\u001b[0;34m\u001b[0m\u001b[0;34m\u001b[0m\u001b[0m\n\u001b[1;32m    266\u001b[0m                                          raw_as_string=self._raw_as_string)\n",
      "\u001b[0;32m/opt/anaconda3/lib/python3.8/site-packages/mysql/connector/connection_cext.py\u001b[0m in \u001b[0;36mcmd_query\u001b[0;34m(self, query, raw, buffered, raw_as_string)\u001b[0m\n\u001b[1;32m    506\u001b[0m                                raw_as_string=raw_as_string)\n\u001b[1;32m    507\u001b[0m         \u001b[0;32mexcept\u001b[0m \u001b[0mMySQLInterfaceError\u001b[0m \u001b[0;32mas\u001b[0m \u001b[0mexc\u001b[0m\u001b[0;34m:\u001b[0m\u001b[0;34m\u001b[0m\u001b[0;34m\u001b[0m\u001b[0m\n\u001b[0;32m--> 508\u001b[0;31m             raise errors.get_mysql_exception(exc.errno, msg=exc.msg,\n\u001b[0m\u001b[1;32m    509\u001b[0m                                              sqlstate=exc.sqlstate)\n\u001b[1;32m    510\u001b[0m         \u001b[0;32mexcept\u001b[0m \u001b[0mAttributeError\u001b[0m\u001b[0;34m:\u001b[0m\u001b[0;34m\u001b[0m\u001b[0;34m\u001b[0m\u001b[0m\n",
      "\u001b[0;31mProgrammingError\u001b[0m: 1064 (42000): You have an error in your SQL syntax; check the manual that corresponds to your MySQL server version for the right syntax to use near 'd' at line 1"
     ]
    }
   ],
   "source": [
    "# Récupération des données du flux\n",
    "with mysql.connector.connect(**connection_params) as db :\n",
    "    with db.cursor() as c:\n",
    "        r = 'set @json=\\' \\\n",
    "            [  \\\n",
    "              {\"name\":\"Laptop\", \"color\":\"black\", \"price\":\"1000\"},  \\\n",
    "              {\"name\":\"Jeans\",  \"color\":\"blue\"}  \\\n",
    "            ]\\' ' ; \\\n",
    "\n",
    "\n",
    "        c.execute(r)\n",
    "\n",
    "        r = ' select * from json_table(@json, \\'$[*]\\'  \\\n",
    "          columns( \\\n",
    "           name  varchar(10) path \\'$.name\\', \\\n",
    "           color varchar(10) path \\'$.color\\', \\\n",
    "           price d \\\n",
    "           ';\n",
    "        c.execute(r)\n"
   ]
  },
  {
   "cell_type": "code",
   "execution_count": null,
   "metadata": {},
   "outputs": [],
   "source": []
  }
 ],
 "metadata": {
  "kernelspec": {
   "display_name": "Python 3",
   "language": "python",
   "name": "python3"
  },
  "language_info": {
   "codemirror_mode": {
    "name": "ipython",
    "version": 3
   },
   "file_extension": ".py",
   "mimetype": "text/x-python",
   "name": "python",
   "nbconvert_exporter": "python",
   "pygments_lexer": "ipython3",
   "version": "3.8.3"
  }
 },
 "nbformat": 4,
 "nbformat_minor": 4
}
