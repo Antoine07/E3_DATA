{
 "cells": [
  {
   "cell_type": "code",
   "execution_count": 2,
   "metadata": {},
   "outputs": [],
   "source": [
    "import numpy as np"
   ]
  },
  {
   "cell_type": "code",
   "execution_count": 3,
   "metadata": {},
   "outputs": [
    {
     "name": "stdout",
     "output_type": "stream",
     "text": [
      "[3 6 9]\n"
     ]
    }
   ],
   "source": [
    "a = np.array([[1,2,3], [4,5,6], [7,8,9]])\n",
    "\n",
    "print(a[:, 2])"
   ]
  },
  {
   "cell_type": "code",
   "execution_count": 4,
   "metadata": {},
   "outputs": [
    {
     "data": {
      "text/plain": [
       "array([1, 2, 3])"
      ]
     },
     "execution_count": 4,
     "metadata": {},
     "output_type": "execute_result"
    }
   ],
   "source": [
    "a[0]"
   ]
  },
  {
   "cell_type": "code",
   "execution_count": 5,
   "metadata": {},
   "outputs": [
    {
     "name": "stdout",
     "output_type": "stream",
     "text": [
      "[2 5 8]\n"
     ]
    }
   ],
   "source": [
    "print(a[:, 1])"
   ]
  },
  {
   "cell_type": "code",
   "execution_count": 6,
   "metadata": {},
   "outputs": [
    {
     "data": {
      "text/plain": [
       "array([[20, 21, 22],\n",
       "       [23, 24, 25],\n",
       "       [26, 27, 28]])"
      ]
     },
     "execution_count": 6,
     "metadata": {},
     "output_type": "execute_result"
    }
   ],
   "source": [
    "a = np.array([\n",
    "       [[10, 11, 12], [13, 14, 15], [16, 17, 18]], # matrix 0\n",
    "       [[20, 21, 22], [23, 24, 25], [26, 27, 28]],\n",
    "       [[30, 31, 32], [33, 34, 35], [36, 37, 38]]\n",
    "])\n",
    "\n",
    "# sélectionne la deuxième matrice\n",
    "a[1]"
   ]
  },
  {
   "cell_type": "code",
   "execution_count": 7,
   "metadata": {},
   "outputs": [
    {
     "name": "stdout",
     "output_type": "stream",
     "text": [
      "14 24 34\n"
     ]
    }
   ],
   "source": [
    "# On souhaite avoir 14 24 34 \n",
    "x, y, z = a[:, 1, 1]\n",
    "\n",
    "print(x, y, z)"
   ]
  },
  {
   "cell_type": "code",
   "execution_count": 8,
   "metadata": {},
   "outputs": [
    {
     "data": {
      "text/plain": [
       "array([[60, 63, 66],\n",
       "       [69, 72, 75],\n",
       "       [78, 81, 84]])"
      ]
     },
     "execution_count": 8,
     "metadata": {},
     "output_type": "execute_result"
    }
   ],
   "source": [
    "a = np.array([\n",
    "       [[10, 11, 12], [13, 14, 15], [16, 17, 18]], # matrix 0\n",
    "       [[20, 21, 22], [23, 24, 25], [26, 27, 28]],\n",
    "       [[30, 31, 32], [33, 34, 35], [36, 37, 38]]\n",
    "])\n",
    "\n",
    "a.sum(0)"
   ]
  },
  {
   "cell_type": "code",
   "execution_count": 9,
   "metadata": {},
   "outputs": [
    {
     "data": {
      "text/plain": [
       "array([[[20, 22, 24],\n",
       "        [26, 28, 30],\n",
       "        [32, 34, 36]],\n",
       "\n",
       "       [[40, 42, 44],\n",
       "        [46, 48, 50],\n",
       "        [52, 54, 56]],\n",
       "\n",
       "       [[60, 62, 64],\n",
       "        [66, 68, 70],\n",
       "        [72, 74, 76]]])"
      ]
     },
     "execution_count": 9,
     "metadata": {},
     "output_type": "execute_result"
    }
   ],
   "source": [
    "a*2"
   ]
  },
  {
   "cell_type": "code",
   "execution_count": 10,
   "metadata": {},
   "outputs": [],
   "source": [
    "# 01 Exercice"
   ]
  },
  {
   "cell_type": "code",
   "execution_count": 11,
   "metadata": {},
   "outputs": [],
   "source": [
    "x1 = np.array([[9, 1, 2],\n",
    "       [8, 0, 2],\n",
    "       [5, 1, 5]])"
   ]
  },
  {
   "cell_type": "code",
   "execution_count": 19,
   "metadata": {},
   "outputs": [
    {
     "name": "stdout",
     "output_type": "stream",
     "text": [
      "[9 1 2]\n",
      "[8 0 2]\n",
      "[5 1 5]\n"
     ]
    }
   ],
   "source": [
    "print( x1[0] )\n",
    "print( x1[1] )\n",
    "print( x1[2] )"
   ]
  },
  {
   "cell_type": "code",
   "execution_count": 20,
   "metadata": {},
   "outputs": [
    {
     "name": "stdout",
     "output_type": "stream",
     "text": [
      "[1 0 1]\n",
      "[9 8 5]\n",
      "[1 0 1]\n"
     ]
    }
   ],
   "source": [
    "# La deuxième colonne\n",
    "print( x1[:, 1] )\n",
    "\n",
    "# La première colonne\n",
    "print( x1[:, 0] )\n",
    "\n",
    "# La dernière colonne\n",
    "print( x1[:, 1] )"
   ]
  },
  {
   "cell_type": "code",
   "execution_count": 26,
   "metadata": {},
   "outputs": [
    {
     "name": "stdout",
     "output_type": "stream",
     "text": [
      "[[9 1]\n",
      " [8 0]]\n"
     ]
    }
   ],
   "source": [
    "\"\"\"\n",
    "9 1 \n",
    "8 0\n",
    "\"\"\"\n",
    "print( x1[:2,:2] )"
   ]
  },
  {
   "cell_type": "code",
   "execution_count": 27,
   "metadata": {},
   "outputs": [
    {
     "name": "stdout",
     "output_type": "stream",
     "text": [
      "[[0 2]\n",
      " [1 5]]\n"
     ]
    }
   ],
   "source": [
    "\"\"\"\n",
    "0 2\n",
    "1 5\n",
    "\"\"\"\n",
    "# start:end:step\n",
    "print(x1[1:,1:])"
   ]
  },
  {
   "cell_type": "code",
   "execution_count": 30,
   "metadata": {},
   "outputs": [
    {
     "data": {
      "text/plain": [
       "array([12, 10, 11])"
      ]
     },
     "execution_count": 30,
     "metadata": {},
     "output_type": "execute_result"
    }
   ],
   "source": [
    "# Somme des lignes\n",
    "x1.sum(1)"
   ]
  },
  {
   "cell_type": "code",
   "execution_count": 32,
   "metadata": {},
   "outputs": [
    {
     "data": {
      "text/plain": [
       "array([22,  2,  9])"
      ]
     },
     "execution_count": 32,
     "metadata": {},
     "output_type": "execute_result"
    }
   ],
   "source": [
    "# Somme des colonnes\n",
    "x1.sum(0)"
   ]
  },
  {
   "cell_type": "code",
   "execution_count": 35,
   "metadata": {},
   "outputs": [
    {
     "name": "stdout",
     "output_type": "stream",
     "text": [
      "22 2 9\n",
      "12 10 11\n"
     ]
    }
   ],
   "source": [
    "# Somme des colonnes\n",
    "x, y, z = x1.sum(0)\n",
    "print(x, y, z)\n",
    "\n",
    "# Somme des lignes\n",
    "a, b, c = x1.sum(1)\n",
    "\n",
    "print(a, b, c)"
   ]
  },
  {
   "cell_type": "code",
   "execution_count": 38,
   "metadata": {},
   "outputs": [
    {
     "name": "stdout",
     "output_type": "stream",
     "text": [
      "[[[8 4]\n",
      "  [8 9]]\n",
      "\n",
      " [[3 0]\n",
      "  [5 0]]]\n"
     ]
    }
   ],
   "source": [
    "# 02 Exercice\n",
    "x2 = np.array([ \n",
    "    [ [8, 4],[8, 9] ],\n",
    "    [ [3, 0],[5, 0] ] \n",
    "])\n",
    "\n",
    "print(x2)"
   ]
  },
  {
   "cell_type": "code",
   "execution_count": 66,
   "metadata": {},
   "outputs": [
    {
     "name": "stdout",
     "output_type": "stream",
     "text": [
      "[8 8]\n"
     ]
    }
   ],
   "source": [
    "\"\"\"\n",
    "8\n",
    "8\n",
    "\"\"\"\n",
    "\n",
    "print( x2[0][:, 0] )"
   ]
  },
  {
   "cell_type": "code",
   "execution_count": 68,
   "metadata": {},
   "outputs": [
    {
     "name": "stdout",
     "output_type": "stream",
     "text": [
      "[4 9]\n"
     ]
    }
   ],
   "source": [
    "\"\"\"\n",
    "4\n",
    "9\n",
    "\"\"\"\n",
    "\n",
    "print( x2[0][:, 1] )"
   ]
  },
  {
   "cell_type": "code",
   "execution_count": 70,
   "metadata": {},
   "outputs": [
    {
     "name": "stdout",
     "output_type": "stream",
     "text": [
      "[0 0]\n"
     ]
    }
   ],
   "source": [
    "\"\"\"\n",
    "0\n",
    "0\n",
    "\"\"\"\n",
    "\n",
    "print( x2[1][:, 1] )"
   ]
  },
  {
   "cell_type": "code",
   "execution_count": 72,
   "metadata": {},
   "outputs": [
    {
     "name": "stdout",
     "output_type": "stream",
     "text": [
      "[[[10 11 12]\n",
      "  [13 14 15]\n",
      "  [16 17 18]]\n",
      "\n",
      " [[20 21 22]\n",
      "  [23 24 25]\n",
      "  [26 27 28]]\n",
      "\n",
      " [[30 31 32]\n",
      "  [33 34 35]\n",
      "  [36 37 38]]]\n"
     ]
    }
   ],
   "source": [
    "# 03 Exercice\n",
    "a = np.array([\n",
    "       [[10, 11, 12], [13, 14, 15], [16, 17, 18]], # matrix 0\n",
    "       [[20, 21, 22], [23, 24, 25], [26, 27, 28]],\n",
    "       [[30, 31, 32], [33, 34, 35], [36, 37, 38]]\n",
    "])\n",
    "\n",
    "print(a)"
   ]
  },
  {
   "cell_type": "code",
   "execution_count": 73,
   "metadata": {},
   "outputs": [
    {
     "data": {
      "text/plain": [
       "'\\n10 11 12\\n20 21 22\\n'"
      ]
     },
     "execution_count": 73,
     "metadata": {},
     "output_type": "execute_result"
    }
   ],
   "source": [
    "\"\"\"\n",
    "10 11 12\n",
    "20 21 22\n",
    "30 31 32\n",
    "\"\"\""
   ]
  },
  {
   "cell_type": "code",
   "execution_count": null,
   "metadata": {},
   "outputs": [],
   "source": []
  }
 ],
 "metadata": {
  "kernelspec": {
   "display_name": "Python 3",
   "language": "python",
   "name": "python3"
  },
  "language_info": {
   "codemirror_mode": {
    "name": "ipython",
    "version": 3
   },
   "file_extension": ".py",
   "mimetype": "text/x-python",
   "name": "python",
   "nbconvert_exporter": "python",
   "pygments_lexer": "ipython3",
   "version": "3.8.3"
  }
 },
 "nbformat": 4,
 "nbformat_minor": 4
}
