{
 "cells": [
  {
   "cell_type": "code",
   "execution_count": 1,
   "metadata": {},
   "outputs": [],
   "source": [
    "import numpy as np # numerical python module pour les traiter les données"
   ]
  },
  {
   "cell_type": "code",
   "execution_count": 2,
   "metadata": {},
   "outputs": [],
   "source": [
    "populations = [\n",
    "    { \"id\" : 0, \"name\" : \"Alan\" },\n",
    "    { \"id\" : 1, \"name\" : \"Albert\" },\n",
    "    { \"id\" : 2, \"name\" : \"Jhon\" },\n",
    "    { \"id\" : 3, \"name\" : \"Brice\" },\n",
    "    { \"id\" : 4, \"name\" : \"Alexendra\" },\n",
    "    { \"id\" : 5, \"name\" : \"Brad\" },\n",
    "    { \"id\" : 6, \"name\" : \"Carl\" },\n",
    "    { \"id\" : 7, \"name\" : \"Dallas\" },\n",
    "    { \"id\" : 8, \"name\" : \"Dennis\" },\n",
    "    { \"id\" : 9, \"name\" : \"Edgar\" },\n",
    "    { \"id\" : 10, \"name\" : \"Erika\" },\n",
    "    { \"id\" : 11, \"name\" : \"Isaac\" },\n",
    "    { \"id\" : 12, \"name\" : \"Ian\" }\n",
    "]\n",
    "\n",
    "# chaque tuple représente la relation réciproque des users 0 => 1 et 1 => 0\n",
    "relationships = [\n",
    "    (0,1), (0,2), (1,2), (1,4),(2,3), (2,5),\n",
    "    (3,4), (3,7), (4,5),(4,8), (4,9), (5,7),\n",
    "    (5,9), (6,7), (6,8), (7,1), (7,8), (8,9),\n",
    "    (10,1),(10,2),(10,3),(11,12),(11,2),(11,5)\n",
    "]"
   ]
  },
  {
   "cell_type": "code",
   "execution_count": 23,
   "metadata": {},
   "outputs": [],
   "source": [
    "for pop in populations:\n",
    "    pop['relation'] = []\n",
    "    pop['avg'] = None\n"
   ]
  },
  {
   "cell_type": "code",
   "execution_count": 24,
   "metadata": {},
   "outputs": [
    {
     "name": "stdout",
     "output_type": "stream",
     "text": [
      "[{'id': 0, 'name': 'Alan', 'relation': [], 'avg': None}, {'id': 1, 'name': 'Albert', 'relation': [], 'avg': None}, {'id': 2, 'name': 'Jhon', 'relation': [], 'avg': None}, {'id': 3, 'name': 'Brice', 'relation': [], 'avg': None}, {'id': 4, 'name': 'Alexendra', 'relation': [], 'avg': None}, {'id': 5, 'name': 'Brad', 'relation': [], 'avg': None}, {'id': 6, 'name': 'Carl', 'relation': [], 'avg': None}, {'id': 7, 'name': 'Dallas', 'relation': [], 'avg': None}, {'id': 8, 'name': 'Dennis', 'relation': [], 'avg': None}, {'id': 9, 'name': 'Edgar', 'relation': [], 'avg': None}, {'id': 10, 'name': 'Erika', 'relation': [], 'avg': None}, {'id': 11, 'name': 'Isaac', 'relation': [], 'avg': None}, {'id': 12, 'name': 'Ian', 'relation': [], 'avg': None}]\n"
     ]
    }
   ],
   "source": [
    "print(populations)"
   ]
  },
  {
   "cell_type": "code",
   "execution_count": 8,
   "metadata": {},
   "outputs": [],
   "source": [
    "# avoir un tableau dans Numpy == nouvelles structures de données on peut plus rien ajouter dans cette structure \n",
    "# car on a alloué la mémoire à cette objet pour qu'il contienne exactement ce qu'on lui a mis\n",
    "# Il est accessible en lecture et en écriture, mais rappelez vous rien ajouter ... \n",
    "popArray = np.array(populations)"
   ]
  },
  {
   "cell_type": "code",
   "execution_count": 29,
   "metadata": {},
   "outputs": [],
   "source": [
    "for (i, j) in relationships:\n",
    "    popArray[i]['relation'].append(j) # on aurait pu mettre entièrement les informations du user au lieu de son id\n",
    "    popArray[j]['relation'].append(i)    "
   ]
  },
  {
   "cell_type": "code",
   "execution_count": 30,
   "metadata": {},
   "outputs": [
    {
     "name": "stdout",
     "output_type": "stream",
     "text": [
      "[{'id': 0, 'name': 'Alan', 'relation': [1, 2], 'avg': None}\n",
      " {'id': 1, 'name': 'Albert', 'relation': [0, 2, 4, 7, 10], 'avg': None}\n",
      " {'id': 2, 'name': 'Jhon', 'relation': [0, 1, 3, 5, 10, 11], 'avg': None}\n",
      " {'id': 3, 'name': 'Brice', 'relation': [2, 4, 7, 10], 'avg': None}\n",
      " {'id': 4, 'name': 'Alexendra', 'relation': [1, 3, 5, 8, 9], 'avg': None}\n",
      " {'id': 5, 'name': 'Brad', 'relation': [2, 4, 7, 9, 11], 'avg': None}\n",
      " {'id': 6, 'name': 'Carl', 'relation': [7, 8], 'avg': None}\n",
      " {'id': 7, 'name': 'Dallas', 'relation': [3, 5, 6, 1, 8], 'avg': None}\n",
      " {'id': 8, 'name': 'Dennis', 'relation': [4, 6, 7, 9], 'avg': None}\n",
      " {'id': 9, 'name': 'Edgar', 'relation': [4, 5, 8], 'avg': None}\n",
      " {'id': 10, 'name': 'Erika', 'relation': [1, 2, 3], 'avg': None}\n",
      " {'id': 11, 'name': 'Isaac', 'relation': [12, 2, 5], 'avg': None}\n",
      " {'id': 12, 'name': 'Ian', 'relation': [11], 'avg': None}]\n"
     ]
    }
   ],
   "source": [
    "print(popArray)"
   ]
  },
  {
   "cell_type": "code",
   "execution_count": 31,
   "metadata": {},
   "outputs": [],
   "source": [
    "def number_relation_user(user):\n",
    "    return len(user['relation'])"
   ]
  },
  {
   "cell_type": "code",
   "execution_count": 32,
   "metadata": {},
   "outputs": [
    {
     "name": "stdout",
     "output_type": "stream",
     "text": [
      "48\n"
     ]
    }
   ],
   "source": [
    "total_relation = sum(number_relation_user(user) for user in popArray)\n",
    "\n",
    "print(total_relation)"
   ]
  },
  {
   "cell_type": "code",
   "execution_count": 35,
   "metadata": {},
   "outputs": [
    {
     "ename": "SyntaxError",
     "evalue": "invalid syntax (<ipython-input-35-5670f31b8de0>, line 3)",
     "output_type": "error",
     "traceback": [
      "\u001b[0;36m  File \u001b[0;32m\"<ipython-input-35-5670f31b8de0>\"\u001b[0;36m, line \u001b[0;32m3\u001b[0m\n\u001b[0;31m    print(avg_relation)\u001b[0m\n\u001b[0m    ^\u001b[0m\n\u001b[0;31mSyntaxError\u001b[0m\u001b[0;31m:\u001b[0m invalid syntax\n"
     ]
    }
   ],
   "source": [
    "avg_relation = np.round( np.mean(total_relation/len(populations), 2)\n",
    "\n",
    "print(avg_relation)"
   ]
  },
  {
   "cell_type": "code",
   "execution_count": null,
   "metadata": {},
   "outputs": [],
   "source": []
  },
  {
   "cell_type": "code",
   "execution_count": null,
   "metadata": {},
   "outputs": [],
   "source": []
  }
 ],
 "metadata": {
  "kernelspec": {
   "display_name": "Python 3",
   "language": "python",
   "name": "python3"
  },
  "language_info": {
   "codemirror_mode": {
    "name": "ipython",
    "version": 3
   },
   "file_extension": ".py",
   "mimetype": "text/x-python",
   "name": "python",
   "nbconvert_exporter": "python",
   "pygments_lexer": "ipython3",
   "version": "3.8.3"
  }
 },
 "nbformat": 4,
 "nbformat_minor": 4
}
