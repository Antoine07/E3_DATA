{
 "cells": [
  {
   "cell_type": "code",
   "execution_count": 1,
   "metadata": {},
   "outputs": [
    {
     "name": "stdout",
     "output_type": "stream",
     "text": [
      "-------\n"
     ]
    }
   ],
   "source": [
    "\"\"\"\n",
    "\n",
    "01 Exercice\n",
    "\n",
    "Soit la chaîne de caractères suivante : \"mississippi\". Comptez le nombre d'occurence de chaque lettre(s).\n",
    "\n",
    "\n",
    "\"\"\"\n",
    "\n",
    "print(\"-------\")"
   ]
  },
  {
   "cell_type": "code",
   "execution_count": 2,
   "metadata": {},
   "outputs": [
    {
     "name": "stdout",
     "output_type": "stream",
     "text": [
      "4\n",
      "{'p': 2, 's': 4, 'm': 1, 'i': 4}\n"
     ]
    }
   ],
   "source": [
    "phrase = \"mississippi\"\n",
    "print( phrase.count('i') )\n",
    "\n",
    "# Un ensemble vous permet de récupérer uniquement un représentant de chaque lettre dans la phrase\n",
    "letters = set(phrase)\n",
    "\n",
    "stat = { letter : phrase.count(letter) for letter in letters }\n",
    "\n",
    "print(stat)"
   ]
  },
  {
   "cell_type": "code",
   "execution_count": 3,
   "metadata": {},
   "outputs": [
    {
     "name": "stdout",
     "output_type": "stream",
     "text": [
      "-------\n"
     ]
    }
   ],
   "source": [
    "\"\"\"\n",
    "02 Exercice \n",
    "\n",
    "Nous souhaitons créer une fonction qui permet d'inverser des entiers signés ou non :\n",
    "\n",
    "Par exemples :\n",
    "\n",
    "-6523 donnerait -3256\n",
    "\n",
    "123 donnerait 321\n",
    "\n",
    "Utilisez les notions du cours pour créer cette fonction. Notamment pensez à caster vos données \n",
    "afin de pouvoir les utiliser avec d'autre(s) fonction(s).\n",
    "\n",
    "\"\"\"\n",
    "\n",
    "print(\"-------\")"
   ]
  },
  {
   "cell_type": "code",
   "execution_count": 35,
   "metadata": {},
   "outputs": [
    {
     "name": "stdout",
     "output_type": "stream",
     "text": [
      "-871\n",
      "version 2\n",
      "-871\n"
     ]
    }
   ],
   "source": [
    "def inverseInt1(num):\n",
    "    sens = 1\n",
    "    if num < 0:\n",
    "        sens = -1\n",
    "    \n",
    "    phrase = str(abs(num))\n",
    "    lenPhrase = len(phrase) \n",
    "    normalize = [ phrase[lenPhrase - ( 1 + i ) ] for i in range( lenPhrase ) ]\n",
    "\n",
    "    return  sens * int(\"\".join(normalize) )\n",
    "\n",
    "print( inverseInt1(-178) )\n",
    "\n",
    "# Méthode plus parfaite \n",
    "def inverseInt2(num):\n",
    "    sens = 1\n",
    "    if num < 0:\n",
    "        sens = -1\n",
    "    \n",
    "    # pour inverser que les chiffres et pas le signe\n",
    "    phrase = str(abs(num))\n",
    "    \n",
    "    return  sens * int( phrase[::-1] ) \n",
    "\n",
    "print(\"version 2\")\n",
    "print( inverseInt2(-178) )"
   ]
  },
  {
   "cell_type": "code",
   "execution_count": 41,
   "metadata": {},
   "outputs": [
    {
     "name": "stdout",
     "output_type": "stream",
     "text": [
      "trouvé 5\n",
      "trouvé 9\n",
      "trouvé 15\n",
      "trouvé 20\n",
      "[5, 9, 15, 20]\n"
     ]
    }
   ],
   "source": [
    "\"\"\"\n",
    "02 Exercice\n",
    "\n",
    "Un problème récurrent en analyse de données consiste à rechercher une séquence de valeur dans un tableau.\n",
    "\n",
    "Ci-dessous on cherche la séquence 1 2 3\n",
    "\n",
    "l = [1,3,7,8,9,1,2,3,8, 1, 2, 3, 7, 8, 9, 1, 2, 3, 8, 10, 1, 2, 3]\n",
    "Créez une fonction qui permette de rechercher un mot dans un texte ou une liste, \n",
    "notez que cette fonction sera identique pour un texte, un itérable... \n",
    "Il serait intéressant que cette fonction retourne le premier indice de la position de la séquence trouvée dans la liste.\n",
    "\n",
    "Retournez maintenant tous les indices de toutes les séquences trouvées dans la liste.\n",
    "\n",
    "\n",
    "Indication: parcourir le tableau en détectant les séquences. Et regarde pour chaque valeur de la liste est retrouver dans la liste\n",
    "Il faut donc reparcourir la liste\n",
    "\n",
    "seq = [1, 2, 3]\n",
    "\n",
    "for c in l:\n",
    "    # reparcourir la séquence en fonction de la grande liste\n",
    "    if c == seq[0]:\n",
    "        \n",
    "\"\"\"\n",
    "\n",
    "l = [1,3,7,8,9,1,2,3,8, 1, 2, 3, 7, 8, 9, 1, 2, 3, 8, 10, 1, 2, 3]\n",
    "\n",
    "seq = [1, 2, 3]\n",
    "seqLen = len(seq)\n",
    "count = 0\n",
    "i = 0\n",
    "\n",
    "res = []\n",
    "for j, num in enumerate(l):\n",
    "    \n",
    "    if i < seqLen and num == seq[i] :\n",
    "        count += 1 # j'ai trouvé une occurence dans la liste\n",
    "        i+= 1  # je regard au pas suivant si j'ai encore élément qui match\n",
    "    else:\n",
    "        # sinon si au pas suivant je l'ai pas trouvé je ré-initialise tout \n",
    "        count = 0\n",
    "        i = 0\n",
    "   \n",
    "    if count == seqLen:\n",
    "        print(\"trouvé\", j - i + 1 )\n",
    "        res.append(j - i + 1)\n",
    "        count = 0\n",
    "        i = 0\n",
    "\n",
    "print(res)\n",
    "    \n"
   ]
  },
  {
   "cell_type": "code",
   "execution_count": null,
   "metadata": {},
   "outputs": [],
   "source": []
  },
  {
   "cell_type": "code",
   "execution_count": null,
   "metadata": {},
   "outputs": [],
   "source": []
  }
 ],
 "metadata": {
  "kernelspec": {
   "display_name": "Python 3",
   "language": "python",
   "name": "python3"
  },
  "language_info": {
   "codemirror_mode": {
    "name": "ipython",
    "version": 3
   },
   "file_extension": ".py",
   "mimetype": "text/x-python",
   "name": "python",
   "nbconvert_exporter": "python",
   "pygments_lexer": "ipython3",
   "version": "3.8.3"
  }
 },
 "nbformat": 4,
 "nbformat_minor": 4
}
