{
 "cells": [
  {
   "cell_type": "code",
   "execution_count": 2,
   "metadata": {},
   "outputs": [
    {
     "name": "stdout",
     "output_type": "stream",
     "text": [
      "-------\n"
     ]
    }
   ],
   "source": [
    "\"\"\"\n",
    "\n",
    "01 Exercice\n",
    "\n",
    "Soit la chaîne de caractères suivante : \"mississippi\". Comptez le nombre d'occurence de chaque lettre(s).\n",
    "\n",
    "\n",
    "\"\"\"\n",
    "\n",
    "print(\"-------\")"
   ]
  },
  {
   "cell_type": "code",
   "execution_count": 15,
   "metadata": {},
   "outputs": [
    {
     "name": "stdout",
     "output_type": "stream",
     "text": [
      "4\n",
      "{'i': 4, 's': 4, 'm': 1, 'p': 2}\n"
     ]
    }
   ],
   "source": [
    "phrase = \"mississippi\"\n",
    "print( phrase.count('i') )\n",
    "\n",
    "# Un ensemble vous permet de récupérer uniquement un représentant de chaque lettre dans la phrase\n",
    "letters = set(phrase)\n",
    "\n",
    "stat = { letter : phrase.count(letter) for letter in letters }\n",
    "\n",
    "print(stat)"
   ]
  }
 ],
 "metadata": {
  "kernelspec": {
   "display_name": "Python 3",
   "language": "python",
   "name": "python3"
  },
  "language_info": {
   "codemirror_mode": {
    "name": "ipython",
    "version": 3
   },
   "file_extension": ".py",
   "mimetype": "text/x-python",
   "name": "python",
   "nbconvert_exporter": "python",
   "pygments_lexer": "ipython3",
   "version": "3.8.3"
  }
 },
 "nbformat": 4,
 "nbformat_minor": 4
}
